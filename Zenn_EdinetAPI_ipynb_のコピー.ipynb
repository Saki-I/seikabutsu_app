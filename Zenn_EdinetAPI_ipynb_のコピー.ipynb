{
  "nbformat": 4,
  "nbformat_minor": 0,
  "metadata": {
    "colab": {
      "provenance": [],
      "include_colab_link": true
    },
    "kernelspec": {
      "name": "python3",
      "display_name": "Python 3"
    },
    "language_info": {
      "name": "python"
    }
  },
  "cells": [
    {
      "cell_type": "markdown",
      "metadata": {
        "id": "view-in-github",
        "colab_type": "text"
      },
      "source": [
        "<a href=\"https://colab.research.google.com/github/Saki-I/seikabutsu_app/blob/main/Zenn_EdinetAPI_ipynb_%E3%81%AE%E3%82%B3%E3%83%94%E3%83%BC.ipynb\" target=\"_parent\"><img src=\"https://colab.research.google.com/assets/colab-badge.svg\" alt=\"Open In Colab\"/></a>"
      ]
    },
    {
      "cell_type": "code",
      "source": [
        "import requests\n",
        "\n",
        "END_POINT = 'https://disclosure.edinet-fsa.go.jp/api/v1'\n",
        "submission_info_endpoint = f'{END_POINT}/documents.json'\n",
        "submission_request_parameters = {\n",
        "    'date': '2022-01-18',\n",
        "    'type': 2\n",
        "}\n",
        "submission_info_response = requests.get(\n",
        "    submission_info_endpoint, submission_request_parameters\n",
        ")\n",
        "submission_info_json = submission_info_response.json()"
      ],
      "metadata": {
        "id": "ChEg5vUKL92Y"
      },
      "execution_count": null,
      "outputs": []
    },
    {
      "cell_type": "code",
      "source": [
        "import pandas as pd\n",
        "\n",
        "raw_submission_info_df = pd.DataFrame(submission_info_json['results'])\n",
        "raw_submission_info_df.columns"
      ],
      "metadata": {
        "colab": {
          "base_uri": "https://localhost:8080/"
        },
        "id": "g3rMAvKlNg03",
        "outputId": "e0696d95-a6aa-4d00-dd3f-780dcd6ec225"
      },
      "execution_count": null,
      "outputs": [
        {
          "output_type": "execute_result",
          "data": {
            "text/plain": [
              "Index(['seqNumber', 'docID', 'edinetCode', 'secCode', 'JCN', 'filerName',\n",
              "       'fundCode', 'ordinanceCode', 'formCode', 'docTypeCode', 'periodStart',\n",
              "       'periodEnd', 'submitDateTime', 'docDescription', 'issuerEdinetCode',\n",
              "       'subjectEdinetCode', 'subsidiaryEdinetCode', 'currentReportReason',\n",
              "       'parentDocID', 'opeDateTime', 'withdrawalStatus', 'docInfoEditStatus',\n",
              "       'disclosureStatus', 'xbrlFlag', 'pdfFlag', 'attachDocFlag',\n",
              "       'englishDocFlag', 'csvFlag', 'legalStatus'],\n",
              "      dtype='object')"
            ]
          },
          "metadata": {},
          "execution_count": 2
        }
      ]
    },
    {
      "cell_type": "code",
      "source": [
        "# 重要なカラムに絞る\n",
        "submission_info_df = raw_submission_info_df[['docID', 'edinetCode', 'secCode', 'filerName', 'docDescription']]\n",
        "submission_info_df.head()"
      ],
      "metadata": {
        "colab": {
          "base_uri": "https://localhost:8080/",
          "height": 258
        },
        "id": "_Wa4qdRXPno9",
        "outputId": "16dafe06-e34d-40ea-fc24-fe41a9db6587"
      },
      "execution_count": null,
      "outputs": [
        {
          "output_type": "execute_result",
          "data": {
            "text/plain": [
              "      docID edinetCode secCode                filerName  \\\n",
              "0  S100N8K1       None    None                     None   \n",
              "1  S100N5TR     E11518    None            三菱ＵＦＪ国際投信株式会社   \n",
              "2  S100MXAV     E12444    None  三井住友トラスト・アセットマネジメント株式会社   \n",
              "3  S100N8O7     E26446   60610            株式会社ユニバーサル園芸社   \n",
              "4  S100MQ7D     E13591    None    新生インベストメント・マネジメント株式会社   \n",
              "\n",
              "                                   docDescription  \n",
              "0                                            None  \n",
              "1     半期報告書（内国投資信託受益証券）－第39期(令和3年4月20日－令和4年4月18日)  \n",
              "2  有価証券報告書（内国投資信託受益証券）－第8期(令和2年10月17日－令和3年10月18日)  \n",
              "3                                           臨時報告書  \n",
              "4   有価証券報告書（内国投資信託受益証券）－第8期(令和3年4月17日－令和3年10月18日)  "
            ],
            "text/html": [
              "\n",
              "  <div id=\"df-43e9c1ba-66ef-4ff9-be9f-e51b001c065f\" class=\"colab-df-container\">\n",
              "    <div>\n",
              "<style scoped>\n",
              "    .dataframe tbody tr th:only-of-type {\n",
              "        vertical-align: middle;\n",
              "    }\n",
              "\n",
              "    .dataframe tbody tr th {\n",
              "        vertical-align: top;\n",
              "    }\n",
              "\n",
              "    .dataframe thead th {\n",
              "        text-align: right;\n",
              "    }\n",
              "</style>\n",
              "<table border=\"1\" class=\"dataframe\">\n",
              "  <thead>\n",
              "    <tr style=\"text-align: right;\">\n",
              "      <th></th>\n",
              "      <th>docID</th>\n",
              "      <th>edinetCode</th>\n",
              "      <th>secCode</th>\n",
              "      <th>filerName</th>\n",
              "      <th>docDescription</th>\n",
              "    </tr>\n",
              "  </thead>\n",
              "  <tbody>\n",
              "    <tr>\n",
              "      <th>0</th>\n",
              "      <td>S100N8K1</td>\n",
              "      <td>None</td>\n",
              "      <td>None</td>\n",
              "      <td>None</td>\n",
              "      <td>None</td>\n",
              "    </tr>\n",
              "    <tr>\n",
              "      <th>1</th>\n",
              "      <td>S100N5TR</td>\n",
              "      <td>E11518</td>\n",
              "      <td>None</td>\n",
              "      <td>三菱ＵＦＪ国際投信株式会社</td>\n",
              "      <td>半期報告書（内国投資信託受益証券）－第39期(令和3年4月20日－令和4年4月18日)</td>\n",
              "    </tr>\n",
              "    <tr>\n",
              "      <th>2</th>\n",
              "      <td>S100MXAV</td>\n",
              "      <td>E12444</td>\n",
              "      <td>None</td>\n",
              "      <td>三井住友トラスト・アセットマネジメント株式会社</td>\n",
              "      <td>有価証券報告書（内国投資信託受益証券）－第8期(令和2年10月17日－令和3年10月18日)</td>\n",
              "    </tr>\n",
              "    <tr>\n",
              "      <th>3</th>\n",
              "      <td>S100N8O7</td>\n",
              "      <td>E26446</td>\n",
              "      <td>60610</td>\n",
              "      <td>株式会社ユニバーサル園芸社</td>\n",
              "      <td>臨時報告書</td>\n",
              "    </tr>\n",
              "    <tr>\n",
              "      <th>4</th>\n",
              "      <td>S100MQ7D</td>\n",
              "      <td>E13591</td>\n",
              "      <td>None</td>\n",
              "      <td>新生インベストメント・マネジメント株式会社</td>\n",
              "      <td>有価証券報告書（内国投資信託受益証券）－第8期(令和3年4月17日－令和3年10月18日)</td>\n",
              "    </tr>\n",
              "  </tbody>\n",
              "</table>\n",
              "</div>\n",
              "    <div class=\"colab-df-buttons\">\n",
              "\n",
              "  <div class=\"colab-df-container\">\n",
              "    <button class=\"colab-df-convert\" onclick=\"convertToInteractive('df-43e9c1ba-66ef-4ff9-be9f-e51b001c065f')\"\n",
              "            title=\"Convert this dataframe to an interactive table.\"\n",
              "            style=\"display:none;\">\n",
              "\n",
              "  <svg xmlns=\"http://www.w3.org/2000/svg\" height=\"24px\" viewBox=\"0 -960 960 960\">\n",
              "    <path d=\"M120-120v-720h720v720H120Zm60-500h600v-160H180v160Zm220 220h160v-160H400v160Zm0 220h160v-160H400v160ZM180-400h160v-160H180v160Zm440 0h160v-160H620v160ZM180-180h160v-160H180v160Zm440 0h160v-160H620v160Z\"/>\n",
              "  </svg>\n",
              "    </button>\n",
              "\n",
              "  <style>\n",
              "    .colab-df-container {\n",
              "      display:flex;\n",
              "      gap: 12px;\n",
              "    }\n",
              "\n",
              "    .colab-df-convert {\n",
              "      background-color: #E8F0FE;\n",
              "      border: none;\n",
              "      border-radius: 50%;\n",
              "      cursor: pointer;\n",
              "      display: none;\n",
              "      fill: #1967D2;\n",
              "      height: 32px;\n",
              "      padding: 0 0 0 0;\n",
              "      width: 32px;\n",
              "    }\n",
              "\n",
              "    .colab-df-convert:hover {\n",
              "      background-color: #E2EBFA;\n",
              "      box-shadow: 0px 1px 2px rgba(60, 64, 67, 0.3), 0px 1px 3px 1px rgba(60, 64, 67, 0.15);\n",
              "      fill: #174EA6;\n",
              "    }\n",
              "\n",
              "    .colab-df-buttons div {\n",
              "      margin-bottom: 4px;\n",
              "    }\n",
              "\n",
              "    [theme=dark] .colab-df-convert {\n",
              "      background-color: #3B4455;\n",
              "      fill: #D2E3FC;\n",
              "    }\n",
              "\n",
              "    [theme=dark] .colab-df-convert:hover {\n",
              "      background-color: #434B5C;\n",
              "      box-shadow: 0px 1px 3px 1px rgba(0, 0, 0, 0.15);\n",
              "      filter: drop-shadow(0px 1px 2px rgba(0, 0, 0, 0.3));\n",
              "      fill: #FFFFFF;\n",
              "    }\n",
              "  </style>\n",
              "\n",
              "    <script>\n",
              "      const buttonEl =\n",
              "        document.querySelector('#df-43e9c1ba-66ef-4ff9-be9f-e51b001c065f button.colab-df-convert');\n",
              "      buttonEl.style.display =\n",
              "        google.colab.kernel.accessAllowed ? 'block' : 'none';\n",
              "\n",
              "      async function convertToInteractive(key) {\n",
              "        const element = document.querySelector('#df-43e9c1ba-66ef-4ff9-be9f-e51b001c065f');\n",
              "        const dataTable =\n",
              "          await google.colab.kernel.invokeFunction('convertToInteractive',\n",
              "                                                    [key], {});\n",
              "        if (!dataTable) return;\n",
              "\n",
              "        const docLinkHtml = 'Like what you see? Visit the ' +\n",
              "          '<a target=\"_blank\" href=https://colab.research.google.com/notebooks/data_table.ipynb>data table notebook</a>'\n",
              "          + ' to learn more about interactive tables.';\n",
              "        element.innerHTML = '';\n",
              "        dataTable['output_type'] = 'display_data';\n",
              "        await google.colab.output.renderOutput(dataTable, element);\n",
              "        const docLink = document.createElement('div');\n",
              "        docLink.innerHTML = docLinkHtml;\n",
              "        element.appendChild(docLink);\n",
              "      }\n",
              "    </script>\n",
              "  </div>\n",
              "\n",
              "\n",
              "<div id=\"df-5df34e19-ccd7-44f9-ae8e-f84491100089\">\n",
              "  <button class=\"colab-df-quickchart\" onclick=\"quickchart('df-5df34e19-ccd7-44f9-ae8e-f84491100089')\"\n",
              "            title=\"Suggest charts\"\n",
              "            style=\"display:none;\">\n",
              "\n",
              "<svg xmlns=\"http://www.w3.org/2000/svg\" height=\"24px\"viewBox=\"0 0 24 24\"\n",
              "     width=\"24px\">\n",
              "    <g>\n",
              "        <path d=\"M19 3H5c-1.1 0-2 .9-2 2v14c0 1.1.9 2 2 2h14c1.1 0 2-.9 2-2V5c0-1.1-.9-2-2-2zM9 17H7v-7h2v7zm4 0h-2V7h2v10zm4 0h-2v-4h2v4z\"/>\n",
              "    </g>\n",
              "</svg>\n",
              "  </button>\n",
              "\n",
              "<style>\n",
              "  .colab-df-quickchart {\n",
              "      --bg-color: #E8F0FE;\n",
              "      --fill-color: #1967D2;\n",
              "      --hover-bg-color: #E2EBFA;\n",
              "      --hover-fill-color: #174EA6;\n",
              "      --disabled-fill-color: #AAA;\n",
              "      --disabled-bg-color: #DDD;\n",
              "  }\n",
              "\n",
              "  [theme=dark] .colab-df-quickchart {\n",
              "      --bg-color: #3B4455;\n",
              "      --fill-color: #D2E3FC;\n",
              "      --hover-bg-color: #434B5C;\n",
              "      --hover-fill-color: #FFFFFF;\n",
              "      --disabled-bg-color: #3B4455;\n",
              "      --disabled-fill-color: #666;\n",
              "  }\n",
              "\n",
              "  .colab-df-quickchart {\n",
              "    background-color: var(--bg-color);\n",
              "    border: none;\n",
              "    border-radius: 50%;\n",
              "    cursor: pointer;\n",
              "    display: none;\n",
              "    fill: var(--fill-color);\n",
              "    height: 32px;\n",
              "    padding: 0;\n",
              "    width: 32px;\n",
              "  }\n",
              "\n",
              "  .colab-df-quickchart:hover {\n",
              "    background-color: var(--hover-bg-color);\n",
              "    box-shadow: 0 1px 2px rgba(60, 64, 67, 0.3), 0 1px 3px 1px rgba(60, 64, 67, 0.15);\n",
              "    fill: var(--button-hover-fill-color);\n",
              "  }\n",
              "\n",
              "  .colab-df-quickchart-complete:disabled,\n",
              "  .colab-df-quickchart-complete:disabled:hover {\n",
              "    background-color: var(--disabled-bg-color);\n",
              "    fill: var(--disabled-fill-color);\n",
              "    box-shadow: none;\n",
              "  }\n",
              "\n",
              "  .colab-df-spinner {\n",
              "    border: 2px solid var(--fill-color);\n",
              "    border-color: transparent;\n",
              "    border-bottom-color: var(--fill-color);\n",
              "    animation:\n",
              "      spin 1s steps(1) infinite;\n",
              "  }\n",
              "\n",
              "  @keyframes spin {\n",
              "    0% {\n",
              "      border-color: transparent;\n",
              "      border-bottom-color: var(--fill-color);\n",
              "      border-left-color: var(--fill-color);\n",
              "    }\n",
              "    20% {\n",
              "      border-color: transparent;\n",
              "      border-left-color: var(--fill-color);\n",
              "      border-top-color: var(--fill-color);\n",
              "    }\n",
              "    30% {\n",
              "      border-color: transparent;\n",
              "      border-left-color: var(--fill-color);\n",
              "      border-top-color: var(--fill-color);\n",
              "      border-right-color: var(--fill-color);\n",
              "    }\n",
              "    40% {\n",
              "      border-color: transparent;\n",
              "      border-right-color: var(--fill-color);\n",
              "      border-top-color: var(--fill-color);\n",
              "    }\n",
              "    60% {\n",
              "      border-color: transparent;\n",
              "      border-right-color: var(--fill-color);\n",
              "    }\n",
              "    80% {\n",
              "      border-color: transparent;\n",
              "      border-right-color: var(--fill-color);\n",
              "      border-bottom-color: var(--fill-color);\n",
              "    }\n",
              "    90% {\n",
              "      border-color: transparent;\n",
              "      border-bottom-color: var(--fill-color);\n",
              "    }\n",
              "  }\n",
              "</style>\n",
              "\n",
              "  <script>\n",
              "    async function quickchart(key) {\n",
              "      const quickchartButtonEl =\n",
              "        document.querySelector('#' + key + ' button');\n",
              "      quickchartButtonEl.disabled = true;  // To prevent multiple clicks.\n",
              "      quickchartButtonEl.classList.add('colab-df-spinner');\n",
              "      try {\n",
              "        const charts = await google.colab.kernel.invokeFunction(\n",
              "            'suggestCharts', [key], {});\n",
              "      } catch (error) {\n",
              "        console.error('Error during call to suggestCharts:', error);\n",
              "      }\n",
              "      quickchartButtonEl.classList.remove('colab-df-spinner');\n",
              "      quickchartButtonEl.classList.add('colab-df-quickchart-complete');\n",
              "    }\n",
              "    (() => {\n",
              "      let quickchartButtonEl =\n",
              "        document.querySelector('#df-5df34e19-ccd7-44f9-ae8e-f84491100089 button');\n",
              "      quickchartButtonEl.style.display =\n",
              "        google.colab.kernel.accessAllowed ? 'block' : 'none';\n",
              "    })();\n",
              "  </script>\n",
              "</div>\n",
              "    </div>\n",
              "  </div>\n"
            ]
          },
          "metadata": {},
          "execution_count": 3
        }
      ]
    },
    {
      "cell_type": "code",
      "source": [
        "# 有価証券報告書の情報を抽出する。\n",
        "securities_report_infos = []\n",
        "for i, row in submission_info_df.iterrows():\n",
        "    doc_desc = row['docDescription']\n",
        "\n",
        "    if doc_desc is None:\n",
        "        continue\n",
        "\n",
        "    if ('有価証券報告書' in doc_desc) and ('受益証券' not in doc_desc):\n",
        "        row_to_dataframe = pd.DataFrame([row])\n",
        "        securities_report_infos.append(row_to_dataframe)\n",
        "\n",
        "if len(securities_report_infos) == 0:\n",
        "    print('有価証券報告書の提出情報がありません。')\n",
        "else:\n",
        "    print(f'{len(securities_report_infos)} 件の有価証券報告書が抽出されました。')\n",
        "    securities_report_info_df = pd.concat(securities_report_infos)"
      ],
      "metadata": {
        "colab": {
          "base_uri": "https://localhost:8080/"
        },
        "id": "DmmIe_k1QeNn",
        "outputId": "c9bdbca3-a2de-4f5c-bd94-9212cff1592d"
      },
      "execution_count": null,
      "outputs": [
        {
          "output_type": "stream",
          "name": "stdout",
          "text": [
            "4 件の有価証券報告書が抽出されました。\n"
          ]
        }
      ]
    },
    {
      "cell_type": "code",
      "source": [
        "securities_report_info_df"
      ],
      "metadata": {
        "colab": {
          "base_uri": "https://localhost:8080/",
          "height": 174
        },
        "id": "Rlhnz7yYTA7r",
        "outputId": "dc705bac-319c-459b-c6e2-913b1ad60a36"
      },
      "execution_count": null,
      "outputs": [
        {
          "output_type": "execute_result",
          "data": {
            "text/plain": [
              "        docID edinetCode secCode     filerName  \\\n",
              "111  S100N8SX     E33390   39940  株式会社マネーフォワード   \n",
              "115  S100N8ST     E33390   39940  株式会社マネーフォワード   \n",
              "121  S100N8OL     E00471   29010      石垣食品株式会社   \n",
              "158  S100N8L9     E31019   39000  株式会社クラウドワークス   \n",
              "\n",
              "                           docDescription  \n",
              "111  訂正有価証券報告書－第8期(平成30年12月1日－令和1年11月30日)  \n",
              "115   訂正有価証券報告書－第9期(令和1年12月1日－令和2年11月30日)  \n",
              "121   訂正有価証券報告書－第63期(平成31年4月1日－令和2年3月31日)  \n",
              "158   訂正有価証券報告書－第10期(令和2年10月1日－令和3年9月30日)  "
            ],
            "text/html": [
              "\n",
              "  <div id=\"df-3f0eaaa3-f28d-414a-a56f-f83df49b0c66\" class=\"colab-df-container\">\n",
              "    <div>\n",
              "<style scoped>\n",
              "    .dataframe tbody tr th:only-of-type {\n",
              "        vertical-align: middle;\n",
              "    }\n",
              "\n",
              "    .dataframe tbody tr th {\n",
              "        vertical-align: top;\n",
              "    }\n",
              "\n",
              "    .dataframe thead th {\n",
              "        text-align: right;\n",
              "    }\n",
              "</style>\n",
              "<table border=\"1\" class=\"dataframe\">\n",
              "  <thead>\n",
              "    <tr style=\"text-align: right;\">\n",
              "      <th></th>\n",
              "      <th>docID</th>\n",
              "      <th>edinetCode</th>\n",
              "      <th>secCode</th>\n",
              "      <th>filerName</th>\n",
              "      <th>docDescription</th>\n",
              "    </tr>\n",
              "  </thead>\n",
              "  <tbody>\n",
              "    <tr>\n",
              "      <th>111</th>\n",
              "      <td>S100N8SX</td>\n",
              "      <td>E33390</td>\n",
              "      <td>39940</td>\n",
              "      <td>株式会社マネーフォワード</td>\n",
              "      <td>訂正有価証券報告書－第8期(平成30年12月1日－令和1年11月30日)</td>\n",
              "    </tr>\n",
              "    <tr>\n",
              "      <th>115</th>\n",
              "      <td>S100N8ST</td>\n",
              "      <td>E33390</td>\n",
              "      <td>39940</td>\n",
              "      <td>株式会社マネーフォワード</td>\n",
              "      <td>訂正有価証券報告書－第9期(令和1年12月1日－令和2年11月30日)</td>\n",
              "    </tr>\n",
              "    <tr>\n",
              "      <th>121</th>\n",
              "      <td>S100N8OL</td>\n",
              "      <td>E00471</td>\n",
              "      <td>29010</td>\n",
              "      <td>石垣食品株式会社</td>\n",
              "      <td>訂正有価証券報告書－第63期(平成31年4月1日－令和2年3月31日)</td>\n",
              "    </tr>\n",
              "    <tr>\n",
              "      <th>158</th>\n",
              "      <td>S100N8L9</td>\n",
              "      <td>E31019</td>\n",
              "      <td>39000</td>\n",
              "      <td>株式会社クラウドワークス</td>\n",
              "      <td>訂正有価証券報告書－第10期(令和2年10月1日－令和3年9月30日)</td>\n",
              "    </tr>\n",
              "  </tbody>\n",
              "</table>\n",
              "</div>\n",
              "    <div class=\"colab-df-buttons\">\n",
              "\n",
              "  <div class=\"colab-df-container\">\n",
              "    <button class=\"colab-df-convert\" onclick=\"convertToInteractive('df-3f0eaaa3-f28d-414a-a56f-f83df49b0c66')\"\n",
              "            title=\"Convert this dataframe to an interactive table.\"\n",
              "            style=\"display:none;\">\n",
              "\n",
              "  <svg xmlns=\"http://www.w3.org/2000/svg\" height=\"24px\" viewBox=\"0 -960 960 960\">\n",
              "    <path d=\"M120-120v-720h720v720H120Zm60-500h600v-160H180v160Zm220 220h160v-160H400v160Zm0 220h160v-160H400v160ZM180-400h160v-160H180v160Zm440 0h160v-160H620v160ZM180-180h160v-160H180v160Zm440 0h160v-160H620v160Z\"/>\n",
              "  </svg>\n",
              "    </button>\n",
              "\n",
              "  <style>\n",
              "    .colab-df-container {\n",
              "      display:flex;\n",
              "      gap: 12px;\n",
              "    }\n",
              "\n",
              "    .colab-df-convert {\n",
              "      background-color: #E8F0FE;\n",
              "      border: none;\n",
              "      border-radius: 50%;\n",
              "      cursor: pointer;\n",
              "      display: none;\n",
              "      fill: #1967D2;\n",
              "      height: 32px;\n",
              "      padding: 0 0 0 0;\n",
              "      width: 32px;\n",
              "    }\n",
              "\n",
              "    .colab-df-convert:hover {\n",
              "      background-color: #E2EBFA;\n",
              "      box-shadow: 0px 1px 2px rgba(60, 64, 67, 0.3), 0px 1px 3px 1px rgba(60, 64, 67, 0.15);\n",
              "      fill: #174EA6;\n",
              "    }\n",
              "\n",
              "    .colab-df-buttons div {\n",
              "      margin-bottom: 4px;\n",
              "    }\n",
              "\n",
              "    [theme=dark] .colab-df-convert {\n",
              "      background-color: #3B4455;\n",
              "      fill: #D2E3FC;\n",
              "    }\n",
              "\n",
              "    [theme=dark] .colab-df-convert:hover {\n",
              "      background-color: #434B5C;\n",
              "      box-shadow: 0px 1px 3px 1px rgba(0, 0, 0, 0.15);\n",
              "      filter: drop-shadow(0px 1px 2px rgba(0, 0, 0, 0.3));\n",
              "      fill: #FFFFFF;\n",
              "    }\n",
              "  </style>\n",
              "\n",
              "    <script>\n",
              "      const buttonEl =\n",
              "        document.querySelector('#df-3f0eaaa3-f28d-414a-a56f-f83df49b0c66 button.colab-df-convert');\n",
              "      buttonEl.style.display =\n",
              "        google.colab.kernel.accessAllowed ? 'block' : 'none';\n",
              "\n",
              "      async function convertToInteractive(key) {\n",
              "        const element = document.querySelector('#df-3f0eaaa3-f28d-414a-a56f-f83df49b0c66');\n",
              "        const dataTable =\n",
              "          await google.colab.kernel.invokeFunction('convertToInteractive',\n",
              "                                                    [key], {});\n",
              "        if (!dataTable) return;\n",
              "\n",
              "        const docLinkHtml = 'Like what you see? Visit the ' +\n",
              "          '<a target=\"_blank\" href=https://colab.research.google.com/notebooks/data_table.ipynb>data table notebook</a>'\n",
              "          + ' to learn more about interactive tables.';\n",
              "        element.innerHTML = '';\n",
              "        dataTable['output_type'] = 'display_data';\n",
              "        await google.colab.output.renderOutput(dataTable, element);\n",
              "        const docLink = document.createElement('div');\n",
              "        docLink.innerHTML = docLinkHtml;\n",
              "        element.appendChild(docLink);\n",
              "      }\n",
              "    </script>\n",
              "  </div>\n",
              "\n",
              "\n",
              "<div id=\"df-f550d709-9043-46a8-b7fd-812741d1759f\">\n",
              "  <button class=\"colab-df-quickchart\" onclick=\"quickchart('df-f550d709-9043-46a8-b7fd-812741d1759f')\"\n",
              "            title=\"Suggest charts\"\n",
              "            style=\"display:none;\">\n",
              "\n",
              "<svg xmlns=\"http://www.w3.org/2000/svg\" height=\"24px\"viewBox=\"0 0 24 24\"\n",
              "     width=\"24px\">\n",
              "    <g>\n",
              "        <path d=\"M19 3H5c-1.1 0-2 .9-2 2v14c0 1.1.9 2 2 2h14c1.1 0 2-.9 2-2V5c0-1.1-.9-2-2-2zM9 17H7v-7h2v7zm4 0h-2V7h2v10zm4 0h-2v-4h2v4z\"/>\n",
              "    </g>\n",
              "</svg>\n",
              "  </button>\n",
              "\n",
              "<style>\n",
              "  .colab-df-quickchart {\n",
              "      --bg-color: #E8F0FE;\n",
              "      --fill-color: #1967D2;\n",
              "      --hover-bg-color: #E2EBFA;\n",
              "      --hover-fill-color: #174EA6;\n",
              "      --disabled-fill-color: #AAA;\n",
              "      --disabled-bg-color: #DDD;\n",
              "  }\n",
              "\n",
              "  [theme=dark] .colab-df-quickchart {\n",
              "      --bg-color: #3B4455;\n",
              "      --fill-color: #D2E3FC;\n",
              "      --hover-bg-color: #434B5C;\n",
              "      --hover-fill-color: #FFFFFF;\n",
              "      --disabled-bg-color: #3B4455;\n",
              "      --disabled-fill-color: #666;\n",
              "  }\n",
              "\n",
              "  .colab-df-quickchart {\n",
              "    background-color: var(--bg-color);\n",
              "    border: none;\n",
              "    border-radius: 50%;\n",
              "    cursor: pointer;\n",
              "    display: none;\n",
              "    fill: var(--fill-color);\n",
              "    height: 32px;\n",
              "    padding: 0;\n",
              "    width: 32px;\n",
              "  }\n",
              "\n",
              "  .colab-df-quickchart:hover {\n",
              "    background-color: var(--hover-bg-color);\n",
              "    box-shadow: 0 1px 2px rgba(60, 64, 67, 0.3), 0 1px 3px 1px rgba(60, 64, 67, 0.15);\n",
              "    fill: var(--button-hover-fill-color);\n",
              "  }\n",
              "\n",
              "  .colab-df-quickchart-complete:disabled,\n",
              "  .colab-df-quickchart-complete:disabled:hover {\n",
              "    background-color: var(--disabled-bg-color);\n",
              "    fill: var(--disabled-fill-color);\n",
              "    box-shadow: none;\n",
              "  }\n",
              "\n",
              "  .colab-df-spinner {\n",
              "    border: 2px solid var(--fill-color);\n",
              "    border-color: transparent;\n",
              "    border-bottom-color: var(--fill-color);\n",
              "    animation:\n",
              "      spin 1s steps(1) infinite;\n",
              "  }\n",
              "\n",
              "  @keyframes spin {\n",
              "    0% {\n",
              "      border-color: transparent;\n",
              "      border-bottom-color: var(--fill-color);\n",
              "      border-left-color: var(--fill-color);\n",
              "    }\n",
              "    20% {\n",
              "      border-color: transparent;\n",
              "      border-left-color: var(--fill-color);\n",
              "      border-top-color: var(--fill-color);\n",
              "    }\n",
              "    30% {\n",
              "      border-color: transparent;\n",
              "      border-left-color: var(--fill-color);\n",
              "      border-top-color: var(--fill-color);\n",
              "      border-right-color: var(--fill-color);\n",
              "    }\n",
              "    40% {\n",
              "      border-color: transparent;\n",
              "      border-right-color: var(--fill-color);\n",
              "      border-top-color: var(--fill-color);\n",
              "    }\n",
              "    60% {\n",
              "      border-color: transparent;\n",
              "      border-right-color: var(--fill-color);\n",
              "    }\n",
              "    80% {\n",
              "      border-color: transparent;\n",
              "      border-right-color: var(--fill-color);\n",
              "      border-bottom-color: var(--fill-color);\n",
              "    }\n",
              "    90% {\n",
              "      border-color: transparent;\n",
              "      border-bottom-color: var(--fill-color);\n",
              "    }\n",
              "  }\n",
              "</style>\n",
              "\n",
              "  <script>\n",
              "    async function quickchart(key) {\n",
              "      const quickchartButtonEl =\n",
              "        document.querySelector('#' + key + ' button');\n",
              "      quickchartButtonEl.disabled = true;  // To prevent multiple clicks.\n",
              "      quickchartButtonEl.classList.add('colab-df-spinner');\n",
              "      try {\n",
              "        const charts = await google.colab.kernel.invokeFunction(\n",
              "            'suggestCharts', [key], {});\n",
              "      } catch (error) {\n",
              "        console.error('Error during call to suggestCharts:', error);\n",
              "      }\n",
              "      quickchartButtonEl.classList.remove('colab-df-spinner');\n",
              "      quickchartButtonEl.classList.add('colab-df-quickchart-complete');\n",
              "    }\n",
              "    (() => {\n",
              "      let quickchartButtonEl =\n",
              "        document.querySelector('#df-f550d709-9043-46a8-b7fd-812741d1759f button');\n",
              "      quickchartButtonEl.style.display =\n",
              "        google.colab.kernel.accessAllowed ? 'block' : 'none';\n",
              "    })();\n",
              "  </script>\n",
              "</div>\n",
              "    </div>\n",
              "  </div>\n"
            ]
          },
          "metadata": {},
          "execution_count": 5
        }
      ]
    },
    {
      "cell_type": "code",
      "source": [
        "# 今回はマネーフォーワードの第9期決算情報を対象とする。\n",
        "docID = 'S100N8ST'\n",
        "document_endpoint = f'{END_POINT}/documents/{docID}'\n",
        "document_request_parameters = {\n",
        "    'type': 1\n",
        "}\n",
        "document_response = requests.get(document_endpoint, document_request_parameters)"
      ],
      "metadata": {
        "id": "_h9hNA5wULfs"
      },
      "execution_count": null,
      "outputs": []
    },
    {
      "cell_type": "code",
      "source": [
        "# まず、帰ってきたデータを zip 形式で保存する。\n",
        "zip_file_full_path = f'/content/{docID}.zip'\n",
        "with open(zip_file_full_path, 'wb') as f:\n",
        "    for chunk in document_response.iter_content(chunk_size=1024):\n",
        "        f.write(chunk)"
      ],
      "metadata": {
        "id": "nM000szBV0_B"
      },
      "execution_count": null,
      "outputs": []
    },
    {
      "cell_type": "code",
      "source": [
        "# zip ファイルを解凍する\n",
        "import zipfile\n",
        "import os\n",
        "os.makedirs(f'/content/{docID}', exist_ok=True)\n",
        "with zipfile.ZipFile(zip_file_full_path) as zip_f:\n",
        "    zip_f.extractall(f'/content/{docID}')"
      ],
      "metadata": {
        "id": "e7YLuHMuWe2E"
      },
      "execution_count": null,
      "outputs": []
    },
    {
      "cell_type": "code",
      "source": [
        "# xbrl ファイルを発見する\n",
        "from glob import glob\n",
        "# PublicDoc 内に格納されている xbrl ファイルが分析対象となるファイルである。\n",
        "xbrl_expression = f'/content/{docID}/**/PublicDoc/**/*.xbrl'\n",
        "xbrl_paths = glob(xbrl_expression, recursive=True)\n",
        "xbrl_paths"
      ],
      "metadata": {
        "colab": {
          "base_uri": "https://localhost:8080/"
        },
        "id": "Lo2k21igXRdf",
        "outputId": "f2a4fcbd-761b-43be-8e5c-62785059d3a8"
      },
      "execution_count": null,
      "outputs": [
        {
          "output_type": "execute_result",
          "data": {
            "text/plain": [
              "['/content/S100N8ST/XBRL/PublicDoc/jpcrp030000-asr-001_E33390-000_2020-11-30_02_2022-01-18.xbrl']"
            ]
          },
          "metadata": {},
          "execution_count": 9
        }
      ]
    },
    {
      "cell_type": "code",
      "source": [
        "!pip install edinet_xbrl"
      ],
      "metadata": {
        "id": "8lVcRDfzYjNz",
        "colab": {
          "base_uri": "https://localhost:8080/"
        },
        "outputId": "e5a85c82-09d9-4aad-8586-e3c7c5e77011"
      },
      "execution_count": null,
      "outputs": [
        {
          "output_type": "stream",
          "name": "stdout",
          "text": [
            "Collecting edinet_xbrl\n",
            "  Downloading edinet_xbrl-0.2.0.tar.gz (9.8 kB)\n",
            "  Preparing metadata (setup.py) ... \u001b[?25l\u001b[?25hdone\n",
            "Collecting python-xbrl (from edinet_xbrl)\n",
            "  Downloading python-xbrl-1.1.1.tar.gz (10 kB)\n",
            "  Preparing metadata (setup.py) ... \u001b[?25l\u001b[?25hdone\n",
            "Requirement already satisfied: requests in /usr/local/lib/python3.10/dist-packages (from edinet_xbrl) (2.31.0)\n",
            "Requirement already satisfied: pytest in /usr/local/lib/python3.10/dist-packages (from python-xbrl->edinet_xbrl) (7.4.3)\n",
            "Collecting pep8 (from python-xbrl->edinet_xbrl)\n",
            "  Downloading pep8-1.7.1-py2.py3-none-any.whl (41 kB)\n",
            "\u001b[2K     \u001b[90m━━━━━━━━━━━━━━━━━━━━━━━━━━━━━━━━━━━━━━━━\u001b[0m \u001b[32m41.5/41.5 kB\u001b[0m \u001b[31m571.9 kB/s\u001b[0m eta \u001b[36m0:00:00\u001b[0m\n",
            "\u001b[?25hCollecting marshmallow (from python-xbrl->edinet_xbrl)\n",
            "  Downloading marshmallow-3.20.1-py3-none-any.whl (49 kB)\n",
            "\u001b[2K     \u001b[90m━━━━━━━━━━━━━━━━━━━━━━━━━━━━━━━━━━━━━━━━\u001b[0m \u001b[32m49.4/49.4 kB\u001b[0m \u001b[31m1.6 MB/s\u001b[0m eta \u001b[36m0:00:00\u001b[0m\n",
            "\u001b[?25hRequirement already satisfied: beautifulsoup4 in /usr/local/lib/python3.10/dist-packages (from python-xbrl->edinet_xbrl) (4.11.2)\n",
            "Collecting ordereddict (from python-xbrl->edinet_xbrl)\n",
            "  Downloading ordereddict-1.1.tar.gz (2.1 kB)\n",
            "  Preparing metadata (setup.py) ... \u001b[?25l\u001b[?25hdone\n",
            "Requirement already satisfied: lxml in /usr/local/lib/python3.10/dist-packages (from python-xbrl->edinet_xbrl) (4.9.3)\n",
            "Requirement already satisfied: six in /usr/local/lib/python3.10/dist-packages (from python-xbrl->edinet_xbrl) (1.16.0)\n",
            "Requirement already satisfied: charset-normalizer<4,>=2 in /usr/local/lib/python3.10/dist-packages (from requests->edinet_xbrl) (3.3.2)\n",
            "Requirement already satisfied: idna<4,>=2.5 in /usr/local/lib/python3.10/dist-packages (from requests->edinet_xbrl) (3.6)\n",
            "Requirement already satisfied: urllib3<3,>=1.21.1 in /usr/local/lib/python3.10/dist-packages (from requests->edinet_xbrl) (2.0.7)\n",
            "Requirement already satisfied: certifi>=2017.4.17 in /usr/local/lib/python3.10/dist-packages (from requests->edinet_xbrl) (2023.11.17)\n",
            "Requirement already satisfied: soupsieve>1.2 in /usr/local/lib/python3.10/dist-packages (from beautifulsoup4->python-xbrl->edinet_xbrl) (2.5)\n",
            "Requirement already satisfied: packaging>=17.0 in /usr/local/lib/python3.10/dist-packages (from marshmallow->python-xbrl->edinet_xbrl) (23.2)\n",
            "Requirement already satisfied: iniconfig in /usr/local/lib/python3.10/dist-packages (from pytest->python-xbrl->edinet_xbrl) (2.0.0)\n",
            "Requirement already satisfied: pluggy<2.0,>=0.12 in /usr/local/lib/python3.10/dist-packages (from pytest->python-xbrl->edinet_xbrl) (1.3.0)\n",
            "Requirement already satisfied: exceptiongroup>=1.0.0rc8 in /usr/local/lib/python3.10/dist-packages (from pytest->python-xbrl->edinet_xbrl) (1.2.0)\n",
            "Requirement already satisfied: tomli>=1.0.0 in /usr/local/lib/python3.10/dist-packages (from pytest->python-xbrl->edinet_xbrl) (2.0.1)\n",
            "Building wheels for collected packages: edinet_xbrl, python-xbrl, ordereddict\n",
            "  Building wheel for edinet_xbrl (setup.py) ... \u001b[?25l\u001b[?25hdone\n",
            "  Created wheel for edinet_xbrl: filename=edinet_xbrl-0.2.0-py2.py3-none-any.whl size=10846 sha256=c814bc4714b319fe9523eb09c8165327de1fed0b855613f41784abaab6adc676\n",
            "  Stored in directory: /root/.cache/pip/wheels/9f/e5/02/7a2fb1d397b2e5e9badd3ce824287e8469404491af0d346de3\n",
            "  Building wheel for python-xbrl (setup.py) ... \u001b[?25l\u001b[?25hdone\n",
            "  Created wheel for python-xbrl: filename=python_xbrl-1.1.1-py2.py3-none-any.whl size=10612 sha256=5088b4413751e3f59ceeb7a57241ca14b1bd213ae3f1365b60466d094bc6f39a\n",
            "  Stored in directory: /root/.cache/pip/wheels/6e/24/e6/16c20c0ef5fe7b59c03c893f883aa41ae4fdf30a77d2fd13ad\n",
            "  Building wheel for ordereddict (setup.py) ... \u001b[?25l\u001b[?25hdone\n",
            "  Created wheel for ordereddict: filename=ordereddict-1.1-py3-none-any.whl size=3509 sha256=f3f9d83c5aa264582fcd742cd10af045bffed8b012934a5b750c13e3ff573468\n",
            "  Stored in directory: /root/.cache/pip/wheels/40/fb/87/4202399f8bbef929a0fc53944f251b67cfb1af6b39348a588c\n",
            "Successfully built edinet_xbrl python-xbrl ordereddict\n",
            "Installing collected packages: pep8, ordereddict, marshmallow, python-xbrl, edinet_xbrl\n",
            "Successfully installed edinet_xbrl-0.2.0 marshmallow-3.20.1 ordereddict-1.1 pep8-1.7.1 python-xbrl-1.1.1\n"
          ]
        }
      ]
    },
    {
      "cell_type": "code",
      "source": [
        "from edinet_xbrl.edinet_xbrl_parser import EdinetXbrlParser\n",
        "parser = EdinetXbrlParser()\n",
        "# Step2で特定した XBRL ファイルのパスを選択\n",
        "xbrl_path = xbrl_paths[0]\n",
        "parsed_xbrl = parser.parse_file(xbrl_path)"
      ],
      "metadata": {
        "id": "wUYG0UNlZJfL",
        "colab": {
          "base_uri": "https://localhost:8080/"
        },
        "outputId": "7a138d20-1c62-4beb-cd11-4ecb18f5fa2e"
      },
      "execution_count": null,
      "outputs": [
        {
          "output_type": "stream",
          "name": "stderr",
          "text": [
            "/usr/local/lib/python3.10/dist-packages/bs4/builder/__init__.py:545: XMLParsedAsHTMLWarning: It looks like you're parsing an XML document using an HTML parser. If this really is an HTML document (maybe it's XHTML?), you can ignore or filter this warning. If it's XML, you should know that using an XML parser will be more reliable. To parse this document as XML, make sure you have the lxml package installed, and pass the keyword argument `features=\"xml\"` into the BeautifulSoup constructor.\n",
            "  warnings.warn(\n"
          ]
        }
      ]
    },
    {
      "cell_type": "code",
      "source": [
        "# この決算情報がいつのものか確かめる。\n",
        "key = \"jpdei_cor:CurrentFiscalYearEndDateDEI\"\n",
        "context_ref = \"FilingDateInstant\"\n",
        "report_end_date_info = parsed_xbrl.get_data_by_context_ref(key, context_ref)\n",
        "report_end_date = report_end_date_info.get_value()\n",
        "report_end_date"
      ],
      "metadata": {
        "colab": {
          "base_uri": "https://localhost:8080/",
          "height": 36
        },
        "id": "PxhiUkprfKEo",
        "outputId": "e88d4bf1-a09f-4f03-990b-b045de19dbce"
      },
      "execution_count": null,
      "outputs": [
        {
          "output_type": "execute_result",
          "data": {
            "text/plain": [
              "'2020-11-30'"
            ],
            "application/vnd.google.colaboratory.intrinsic+json": {
              "type": "string"
            }
          },
          "metadata": {},
          "execution_count": 12
        }
      ]
    },
    {
      "cell_type": "code",
      "source": [
        "# 「事業の内容」という事業の概要について記述された情報を取得する。\n",
        "key = \"jpcrp_cor:DescriptionOfBusinessTextBlock\"\n",
        "context_ref = \"FilingDateInstant\"\n",
        "summary_of_business_info = parsed_xbrl.get_data_by_context_ref(key, context_ref)\n",
        "summary_of_business = summary_of_business_info.get_value()"
      ],
      "metadata": {
        "id": "kYkS29AQpVCM"
      },
      "execution_count": null,
      "outputs": []
    },
    {
      "cell_type": "code",
      "source": [
        "# 結果の出力\n",
        "from IPython.display import HTML\n",
        "HTML(summary_of_business)"
      ],
      "metadata": {
        "colab": {
          "resources": {
            "http://localhost:8080/images/0101010_001.png": {
              "data": "CjwhRE9DVFlQRSBodG1sPgo8aHRtbCBsYW5nPWVuPgogIDxtZXRhIGNoYXJzZXQ9dXRmLTg+CiAgPG1ldGEgbmFtZT12aWV3cG9ydCBjb250ZW50PSJpbml0aWFsLXNjYWxlPTEsIG1pbmltdW0tc2NhbGU9MSwgd2lkdGg9ZGV2aWNlLXdpZHRoIj4KICA8dGl0bGU+RXJyb3IgNDA0IChOb3QgRm91bmQpISExPC90aXRsZT4KICA8c3R5bGU+CiAgICAqe21hcmdpbjowO3BhZGRpbmc6MH1odG1sLGNvZGV7Zm9udDoxNXB4LzIycHggYXJpYWwsc2Fucy1zZXJpZn1odG1se2JhY2tncm91bmQ6I2ZmZjtjb2xvcjojMjIyO3BhZGRpbmc6MTVweH1ib2R5e21hcmdpbjo3JSBhdXRvIDA7bWF4LXdpZHRoOjM5MHB4O21pbi1oZWlnaHQ6MTgwcHg7cGFkZGluZzozMHB4IDAgMTVweH0qID4gYm9keXtiYWNrZ3JvdW5kOnVybCgvL3d3dy5nb29nbGUuY29tL2ltYWdlcy9lcnJvcnMvcm9ib3QucG5nKSAxMDAlIDVweCBuby1yZXBlYXQ7cGFkZGluZy1yaWdodDoyMDVweH1we21hcmdpbjoxMXB4IDAgMjJweDtvdmVyZmxvdzpoaWRkZW59aW5ze2NvbG9yOiM3Nzc7dGV4dC1kZWNvcmF0aW9uOm5vbmV9YSBpbWd7Ym9yZGVyOjB9QG1lZGlhIHNjcmVlbiBhbmQgKG1heC13aWR0aDo3NzJweCl7Ym9keXtiYWNrZ3JvdW5kOm5vbmU7bWFyZ2luLXRvcDowO21heC13aWR0aDpub25lO3BhZGRpbmctcmlnaHQ6MH19I2xvZ297YmFja2dyb3VuZDp1cmwoLy93d3cuZ29vZ2xlLmNvbS9pbWFnZXMvbG9nb3MvZXJyb3JwYWdlL2Vycm9yX2xvZ28tMTUweDU0LnBuZykgbm8tcmVwZWF0O21hcmdpbi1sZWZ0Oi01cHh9QG1lZGlhIG9ubHkgc2NyZWVuIGFuZCAobWluLXJlc29sdXRpb246MTkyZHBpKXsjbG9nb3tiYWNrZ3JvdW5kOnVybCgvL3d3dy5nb29nbGUuY29tL2ltYWdlcy9sb2dvcy9lcnJvcnBhZ2UvZXJyb3JfbG9nby0xNTB4NTQtMngucG5nKSBuby1yZXBlYXQgMCUgMCUvMTAwJSAxMDAlOy1tb3otYm9yZGVyLWltYWdlOnVybCgvL3d3dy5nb29nbGUuY29tL2ltYWdlcy9sb2dvcy9lcnJvcnBhZ2UvZXJyb3JfbG9nby0xNTB4NTQtMngucG5nKSAwfX1AbWVkaWEgb25seSBzY3JlZW4gYW5kICgtd2Via2l0LW1pbi1kZXZpY2UtcGl4ZWwtcmF0aW86Mil7I2xvZ297YmFja2dyb3VuZDp1cmwoLy93d3cuZ29vZ2xlLmNvbS9pbWFnZXMvbG9nb3MvZXJyb3JwYWdlL2Vycm9yX2xvZ28tMTUweDU0LTJ4LnBuZykgbm8tcmVwZWF0Oy13ZWJraXQtYmFja2dyb3VuZC1zaXplOjEwMCUgMTAwJX19I2xvZ297ZGlzcGxheTppbmxpbmUtYmxvY2s7aGVpZ2h0OjU0cHg7d2lkdGg6MTUwcHh9CiAgPC9zdHlsZT4KICA8YSBocmVmPS8vd3d3Lmdvb2dsZS5jb20vPjxzcGFuIGlkPWxvZ28gYXJpYS1sYWJlbD1Hb29nbGU+PC9zcGFuPjwvYT4KICA8cD48Yj40MDQuPC9iPiA8aW5zPlRoYXTigJlzIGFuIGVycm9yLjwvaW5zPgogIDxwPiAgPGlucz5UaGF04oCZcyBhbGwgd2Uga25vdy48L2lucz4K",
              "ok": false,
              "headers": [
                [
                  "content-length",
                  "1449"
                ],
                [
                  "content-type",
                  "text/html; charset=utf-8"
                ]
              ],
              "status": 404,
              "status_text": ""
            }
          },
          "base_uri": "https://localhost:8080/",
          "height": 1000
        },
        "id": "Mtf4Pq_nq6_v",
        "outputId": "a2ed714c-34f2-4b6d-e12f-02fbde7618ed"
      },
      "execution_count": null,
      "outputs": [
        {
          "output_type": "execute_result",
          "data": {
            "text/plain": [
              "<IPython.core.display.HTML object>"
            ],
            "text/html": [
              "\n",
              "<h3>３【事業の内容】</h3>\n",
              "<p style=\"margin-left: 24px; text-align: left; text-indent: 12px\">\n",
              "<span style=\"font-family: &apos;MS Mincho&apos;; font-size: 12px\">当社グループは、「お金を前へ。人生をもっと前へ。」というミッションの下、「すべての人の、『お金のプラットフォーム』になる。」というビジョンを掲げ、法人及び個人のお金の課題を解決するイノベーティブなサービスづくりに取り組んでおります。</span>\n",
              "</p>\n",
              "<p style=\"margin-left: 24px; text-align: left; text-indent: 12px\">\n",
              "<span style=\"font-family: &apos;MS Mincho&apos;; font-size: 12px\">当社グループのミッションの追求並びにビジョンを達成するために、法人向けサービスを提供するMoney Forward Businessドメイン（以下、「Businessドメイン」といいます。）、個人向けサービスを提供するMoney Forward Homeドメイン（以下、「Homeドメイン」といいます。）、金融機関のお客様向けにサービス開発を行うMoney Forward Xドメイン（以下、「Xドメイン」といいます。）、新たな金融ソリューションの開発を行うMoney Forward Financeドメイン（以下、「Financeドメイン」といいます。）の４つのドメインにおいて、事業を運営しております。各ドメインにおける具体的なサービス内容は下記のとおりです。</span>\n",
              "</p>\n",
              "<p style=\"margin-left: 24px; text-align: left; text-indent: 12px\"> </p>\n",
              "<p style=\"margin-left: 24px; text-align: left; text-indent: 12px\">\n",
              "<span style=\"font-family: &apos;MS Mincho&apos;; font-size: 12px\">＜Businessドメイン＞</span>\n",
              "</p>\n",
              "<p style=\"margin-left: 24px; text-align: left; text-indent: 12px\">\n",
              "<span style=\"font-family: &apos;MS Mincho&apos;; font-size: 12px\">●サービスの特徴及び優位性</span>\n",
              "</p>\n",
              "<p style=\"margin-left: 24px; text-align: left; text-indent: 12px\">\n",
              "<span style=\"font-family: &apos;MS Mincho&apos;; font-size: 12px\">当該ドメインの中心サービスである『マネーフォワード クラウド』は、バックオフィス向けの業務効率化ソリューションです。会計・確定申告のサービスから始まり、現在では請求書作成・管理、給与計算、マイナンバー管理、経費精算管理、勤怠管理、社会保険手続管理、会社設立・開業届提出支援等、幅広いクラウドサービスを取り揃え、個人事業主や中小企業だけでなく、中堅企業にも導入が進んでおります。『マネーフォワード クラウド』は、モジュール間でデータをシームレスに連携できることはもちろん、銀行口座やクレジットカードの情報等のサードパーティのデータを自動で収集・記録することもできます。これにより、バックオフィス業務の大幅に効率化できる他、経営状況をリアルタイムで把握し、改善につなげることができます。</span>\n",
              "</p>\n",
              "<p style=\"margin-left: 24px; text-align: left; text-indent: 12px\">\n",
              "<span style=\"font-family: &apos;MS Mincho&apos;; font-size: 12px\">生産年齢人口の減少により、今後ますます労働力確保が難しくなってくることが見込まれる中、日本の経済活動を支える中小・中堅企業の生産性の改善、収益性の向上は急務の課題となっております。このような状況の打開に向けて、電子帳簿保存法の改正や年末調整手続きの電子化等、様々な規制緩和が行われております。また、リモートワーク等の新しい働き方が広がり、クラウドサービスのニーズは更に高まっております。ユーザー獲得を加速するため、今後は中堅向けのサービスラインナップをより強化する予定です。</span>\n",
              "</p>\n",
              "<p style=\"margin-left: 24px; text-align: left; text-indent: 12px\"> </p>\n",
              "<p style=\"margin-left: 24px; text-align: left; text-indent: 12px\">\n",
              "<span style=\"font-family: &apos;MS Mincho&apos;; font-size: 12px\">また、M&amp;Aにより、クラウド記帳サービス『STREAMED』を提供する株式会社クラビス、クラウド型経営管理システム『Manageboard』を提供する株式会社ナレッジラボ、SaaSマーケティングプラットフォーム『BOXIL』やインサイドセールス支援『BALES』等を提供するスマートキャンプ株式会社、入金消込・債権管理クラウドサービス『V-ONEクラウド』等を提供する株式会社アール・アンド・エー・シーがグループにジョインしております。バックオフィスSaaS（注１）領域でのサービス提供に加えて、SaaSマーケティング領域にも事業領域を拡大する等、グループ全体での提供価値が高まっております。</span>\n",
              "</p>\n",
              "<p style=\"margin-left: 24px; text-align: left; text-indent: 12px\"> </p>\n",
              "<p style=\"margin-left: 24px; text-align: left; text-indent: 12px\">\n",
              "<span style=\"font-family: &apos;MS Mincho&apos;; font-size: 12px\">●収益構造</span>\n",
              "</p>\n",
              "<p style=\"margin-left: 24px; text-align: left; text-indent: 12px\">\n",
              "<span style=\"font-family: &apos;MS Mincho&apos;; font-size: 12px\">バックオフィスSaaS領域</span>\n",
              "</p>\n",
              "<p style=\"margin-left: 24px; text-align: left; text-indent: 12px\">\n",
              "<span style=\"font-family: &apos;MS Mincho&apos;; font-size: 12px\">『マネーフォワード クラウド』、『STREAMED』、『Manageboard』、『V-ONEクラウド』等をサービスやプランによって異なる価格帯にて月額又は年額課金の形態にて提供しております。解約率が非常に低いため、新規ユーザーの増加に従って、収益がストック型で逓増するモデルとなっております。主な販売経路は①当社営業人員による会計事務所への販売、②ウェブサイトでの販売、③当社営業人員による中堅企業への販売であります。また、フロー収入として、導入支援手数料、イベントの協賛金・参加金売上、ナレッジラボ社におけるコンサルティング売上等を計上しております。</span>\n",
              "</p>\n",
              "<p style=\"margin-left: 24px; text-align: left; text-indent: 12px\"> </p>\n",
              "<p style=\"margin-left: 24px; text-align: left; text-indent: 12px\">\n",
              "<span style=\"font-family: &apos;MS Mincho&apos;; font-size: 12px\">SaaSマーケティング領域</span>\n",
              "</p>\n",
              "<p style=\"margin-left: 24px; text-align: left; text-indent: 12px\">\n",
              "<span style=\"font-family: &apos;MS Mincho&apos;; font-size: 12px\">『BOXIL』におきましては、広告主に対して、月額基本料及び資料請求数に応じた課金を行っております。『BALES』におきましては、インサイドセールス業務の内容、ボリューム等に応じて課金を行っております。また、「BOXIL EXPO」等の展示会を行い、出展企業より出展料を収受しております。</span>\n",
              "</p>\n",
              "<p style=\"text-align: left; text-indent: 12px\"> </p>\n",
              "<p style=\"margin-left: 24px; text-align: left; text-indent: 12px\">\n",
              "<span style=\"font-family: &apos;MS Mincho&apos;; font-size: 12px; font-weight: normal\">＜Homeドメイン＞</span>\n",
              "</p>\n",
              "<p style=\"margin-left: 24px; text-align: left; text-indent: 12px\">\n",
              "<span style=\"font-family: &apos;MS Mincho&apos;; font-size: 12px\">●サービスの特徴及び優位性</span>\n",
              "</p>\n",
              "<p style=\"margin-left: 24px; text-align: left; text-indent: 12px\">\n",
              "<span style=\"font-family: &apos;MS Mincho&apos;; font-size: 12px\">『マネーフォワード ME』を中核に、各種サービスを通して個人のお金に関する課題を解決することを目的に運営しております。スマートフォンの普及を背景に、ユーザーの家計や資産等お金の情報を可視化するとともに一元管理することで、理想の家計や資産状況に向けた改善案を提示しております。</span>\n",
              "</p>\n",
              "<p style=\"margin-left: 24px; text-align: left; text-indent: 12px\">\n",
              "<span style=\"font-family: &apos;MS Mincho&apos;; font-size: 12px\">『マネーフォワード ME』では、当社グループが独自で保有するアカウントアグリゲーション（注２）技術を活用し、複数の金融機関等にある口座の残高や入出金の履歴等のデータを集約・分類して表示させることができます。それによって、『マネーフォワード ME』のユーザーは、銀行、クレジットカード、証券、保険、年金、ポイント等、お金に関する情報を一元管理することが可能になります。さらには、お金の動きをアラートしてくれる「MY通知」や、家計資産サポート、家計診断機能により、理想の家計や支出バランスを追求することが可能となります。</span>\n",
              "</p>\n",
              "<p style=\"margin-left: 24px; text-align: left; text-indent: 12px\">\n",
              "<span style=\"font-family: &apos;MS Mincho&apos;; font-size: 12px\">また、くらしの経済メディア『MONEY PLUS』、各種セミナー・イベントの、ファイナンシャルプランナーに無料で家計の相談ができる『マネーフォワード お金の相談』を通じて、「お金」にまつわる様々な情報の提供も行っております。さらに、『マネーフォワード ME』のデータを分析して最適な行動をアドバイスする『マネーフォワード おかねせんせい β版』、電気代等の「固定費」の削減をサポートする『マネーフォワード 固定費の見直し』等、ユーザーのお金の課題解決に資するサービスも提供を開始しております。</span>\n",
              "</p>\n",
              "<p style=\"margin-left: 24px; text-align: left; text-indent: 12px\"> </p>\n",
              "<p style=\"margin-left: 24px; text-align: left; text-indent: 12px\">\n",
              "<span style=\"font-family: &apos;MS Mincho&apos;; font-size: 12px\">●収益構造</span>\n",
              "</p>\n",
              "<p style=\"margin-left: 24px; text-align: left; text-indent: 12px\">\n",
              "<span style=\"font-family: &apos;MS Mincho&apos;; font-size: 12px\">プレミアム課金</span>\n",
              "</p>\n",
              "<p style=\"margin-left: 24px; text-align: left; text-indent: 12px\">\n",
              "<span style=\"font-family: &apos;MS Mincho&apos;; font-size: 12px\">『マネーフォワード ME』は、いわゆるフリーミアムモデル型（注３）のサービスです。複数の口座残高の一括管理や、取引履歴を食費や光熱費等のカテゴリに自動で分類・グラフ化を行う等の基本的な機能は無料で提供しておりますが、月額約500円のプレミアムサービスとして、詳細分析機能、金融関連サービス11件以上の連携機能、１年以上前の過去データの蓄積機能、将来シミュレーション機能、家計診断による節約ポイントの把握等の上位機能を提供しております。</span>\n",
              "</p>\n",
              "<p style=\"margin-left: 24px; text-align: left; text-indent: 12px\"> </p>\n",
              "<p style=\"margin-left: 24px; text-align: left; text-indent: 12px\">\n",
              "<span style=\"font-family: &apos;MS Mincho&apos;; font-size: 12px\">メディア／広告収入</span>\n",
              "</p>\n",
              "<p style=\"margin-left: 24px; text-align: left; text-indent: 12px\">\n",
              "<span style=\"font-family: &apos;MS Mincho&apos;; font-size: 12px\">『マネーフォワード ME』及び『MONEY PLUS』における広告掲載料、イベントやセミナーの開催に伴う運営収入を計上しております。</span>\n",
              "</p>\n",
              "<p style=\"margin-left: 24px; text-align: left; text-indent: 12px\"> </p>\n",
              "<p style=\"margin-left: 24px; text-align: left; text-indent: 12px\">\n",
              "<span style=\"font-family: &apos;MS Mincho&apos;; font-size: 12px\">＜Xドメイン＞</span>\n",
              "</p>\n",
              "<p style=\"margin-left: 24px; text-align: left; text-indent: 12px\">\n",
              "<span style=\"font-family: &apos;MS Mincho&apos;; font-size: 12px\">●サービスの特徴及び優位性</span>\n",
              "</p>\n",
              "<p style=\"margin-left: 24px; text-align: left; text-indent: 12px\">\n",
              "<span style=\"font-family: &apos;MS Mincho&apos;; font-size: 12px\">『マネーフォワード クラウド』、『マネーフォワード ME』の開発やデザインノウハウを活かし、アプリやwebサービスの企画・開発を行っております。主な提供サービスとして、金融機関の個人顧客向けの自動家計簿・資産管理サービス『マネーフォワードfor○○』、通帳アプリ『デジタル通帳』、法人顧客向けの資金管理サービス『Business Financial Management』等が挙げられます。さらに、通信業界等の金融機関以外の企業とサービスの共同開発にも取り組んでおります。</span>\n",
              "</p>\n",
              "<p style=\"margin-left: 24px; text-align: left; text-indent: 12px\"> </p>\n",
              "<p style=\"margin-left: 24px; text-align: left; text-indent: 12px\">\n",
              "<span style=\"font-family: &apos;MS Mincho&apos;; font-size: 12px\">●収益構造</span>\n",
              "</p>\n",
              "<p style=\"margin-left: 24px; text-align: left; text-indent: 12px\">\n",
              "<span style=\"font-family: &apos;MS Mincho&apos;; font-size: 12px\">『マネーフォワードfor○○』や『デジタル通帳』等の保守・運用にかかる月額課金ストック収益として収受する他、開発、プロモーション支援等により発生する一時的なフロー収益を収受しております。</span>\n",
              "</p>\n",
              "<p style=\"margin-left: 24px; text-align: left; text-indent: 12px\"> </p>\n",
              "<p style=\"margin-left: 24px; text-align: left; text-indent: 12px\">\n",
              "<span style=\"font-family: &apos;MS Mincho&apos;; font-size: 12px\">＜Financeドメイン＞</span>\n",
              "</p>\n",
              "<p style=\"margin-left: 24px; text-align: left; text-indent: 12px\">\n",
              "<span style=\"font-family: &apos;MS Mincho&apos;; font-size: 12px\">●サービスの特徴及び優位性</span>\n",
              "</p>\n",
              "<p style=\"margin-left: 24px; text-align: left; text-indent: 12px\">\n",
              "<span style=\"font-family: &apos;MS Mincho&apos;; font-size: 12px\">主なサービスとして、企業の資金繰りをサポートする、企業間後払い決済サービス『マネーフォワード ケッサイ』及び売掛金早期資金化サービス『マネーフォワード アーリーペイメント』を提供しております。独自の与信モデルにより、スピーディーに審査ができ、企業における資金繰り早期化ニーズ、請求業務のアウトソースニーズに迅速に対応しております。また、マネーフォワードシンカ株式会社において、既存のサービスや金融機関とのネットワークを組み合わせた成長企業向けのフィナンシャル・アドバイザリーサービスを提供しております。さらに、当連結会計年度においては、マネーフォワードベンチャーパートナーズ株式会社において、シード・アーリーステージのスタートアップを支援するアントレプレナーファンド「HIRAC FUND」を開始しております。</span>\n",
              "</p>\n",
              "<p style=\"margin-left: 24px; text-align: left; text-indent: 12px\"> </p>\n",
              "<p style=\"margin-left: 24px; text-align: left; text-indent: 12px\">\n",
              "<span style=\"font-family: &apos;MS Mincho&apos;; font-size: 12px\">●収益構造</span>\n",
              "</p>\n",
              "<p style=\"margin-left: 24px; text-align: left; text-indent: 12px\">\n",
              "<span style=\"font-family: &apos;MS Mincho&apos;; font-size: 12px\">『マネーフォワード ケッサイ』『マネーフォワード アーリーペイメント』の手数料収入、マネーフォワードシンカにおけるアドバイザリーフィーを計上しております。</span>\n",
              "</p>\n",
              "<p style=\"text-align: left; text-indent: 12px\"> </p>\n",
              "<p style=\"margin-left: 24px; text-align: left; text-indent: 12px\">\n",
              "<span style=\"font-family: &apos;MS Mincho&apos;; font-size: 12px; font-weight: normal\">（注１）SaaS</span>\n",
              "</p>\n",
              "<p style=\"margin-left: 72px; text-align: left; text-indent: 12px\">\n",
              "<span style=\"font-family: &apos;MS Mincho&apos;; font-size: 12px\">「Software as a Service」の略称であり、サービス提供者がソフトウエア・アプリケーションの機能をクラウド上で提供し、ネットワーク経由で利用する形態を指します。一般的に初期導入コストを低く抑えた月額課金のビジネスモデルとなります。</span>\n",
              "</p>\n",
              "<p style=\"margin-left: 24px; text-align: left; text-indent: 12px\">\n",
              "<span style=\"font-family: &apos;MS Mincho&apos;; font-size: 12px\">（注２）アカウントアグリゲーション</span>\n",
              "</p>\n",
              "<p style=\"margin-left: 72px; text-align: left; text-indent: 12px\">\n",
              "<span style=\"font-family: &apos;MS Mincho&apos;; font-size: 12px\">ユーザーが保有する、銀行、証券、クレジットカード等複数の金融機関の口座の残高や入出金履歴といった情報を取得・集約する技術をいいます。</span>\n",
              "</p>\n",
              "<p style=\"margin-left: 24px; text-align: left; text-indent: 12px\">\n",
              "<span style=\"font-family: &apos;MS Mincho&apos;; font-size: 12px\">（注３）フリーミアムモデル型</span>\n",
              "</p>\n",
              "<p style=\"margin-left: 72px; text-align: left; text-indent: 12px\">\n",
              "<span style=\"font-family: &apos;MS Mincho&apos;; font-size: 12px\">基本的なサービスはすべて無料で提供し、一部の機能を有料で提供するビジネスモデルをいいます。</span>\n",
              "</p>\n",
              "<p style=\"margin-left: 24px; text-align: left\"> </p>\n",
              "<p style=\"margin-left: 24px; text-align: left\">\n",
              "<span style=\"font-weight: normal\">［事業系統図］</span>\n",
              "</p>\n",
              "<p style=\"margin-left: 24px; text-align: left\">\n",
              "<span style=\"font-weight: normal\">以上述べた事項を事業系統図によって示すと次のとおりであります。</span>\n",
              "</p>\n",
              "<p style=\"margin-left: 36px; text-align: left\">\n",
              "<img style=\"height: 462.440002441406px; width: 600.998779296875px\" src=\"images/0101010_001.png\" alt=\"0101010_001.png\"/>\n",
              "</p>\n",
              "<p style=\"text-align: left\"> </p>\n"
            ]
          },
          "metadata": {},
          "execution_count": 14
        }
      ]
    },
    {
      "cell_type": "code",
      "source": [
        "# 売上情報の取得\n",
        "key = 'jpcrp_cor:NetSalesSummaryOfBusinessResults'\n",
        "context_ref = 'CurrentYearDuration'\n",
        "extracted_data = parsed_xbrl.get_data_by_context_ref(key, context_ref)\n",
        "net_sales = extracted_data.get_value()\n",
        "net_sales"
      ],
      "metadata": {
        "colab": {
          "base_uri": "https://localhost:8080/",
          "height": 36
        },
        "id": "CgnausvfZYPK",
        "outputId": "8db1c64e-77c5-4e42-b336-3e021d65d839"
      },
      "execution_count": null,
      "outputs": [
        {
          "output_type": "execute_result",
          "data": {
            "text/plain": [
              "'11318217000'"
            ],
            "application/vnd.google.colaboratory.intrinsic+json": {
              "type": "string"
            }
          },
          "metadata": {},
          "execution_count": 15
        }
      ]
    },
    {
      "cell_type": "code",
      "source": [
        "# 有価証券報告書には基本5年分の情報があるため、5年分の情報をとってくる。\n",
        "from typing import Dict, List\n",
        "from datetime import datetime\n",
        "from dateutil.relativedelta import relativedelta\n",
        "\n",
        "durations = [\n",
        "    'CurrentYearDuration',\n",
        "    'Prior1YearDuration',\n",
        "    'Prior2YearDuration',\n",
        "    'Prior3YearDuration',\n",
        "    'Prior4YearDuration'\n",
        "]\n",
        "\n",
        "def translate_period(report_end_date: str, duration: str) -> str:\n",
        "    '''duration を対応する日付情報に変換'''\n",
        "    report_end_date_datetime = datetime.strptime(report_end_date, '%Y-%m-%d')\n",
        "    if duration == 'CurrentYearDuration':\n",
        "        return report_end_date_datetime.strftime(\"%Y-%m-%d\")\n",
        "    else:\n",
        "        n_year = int(duration[5])\n",
        "        n_year_previous_date = report_end_date_datetime - relativedelta(years=n_year)\n",
        "        return n_year_previous_date.strftime(\"%Y-%m-%d\")\n",
        "\n",
        "def get_all_periods_value(\n",
        "    xbrl: EdinetXbrlParser,\n",
        "    report_end_date: str,\n",
        "    key: str,\n",
        "    context_refs: List[str]\n",
        ") -> Dict[str, str]:\n",
        "    '''キーで指定した項目の各期間の情報を一括取得'''\n",
        "    results: Dict[str, str] = {}\n",
        "    for context_ref in context_refs:\n",
        "        extracted_data = xbrl.get_data_by_context_ref(key, context_ref)\n",
        "        _date = translate_period(report_end_date, context_ref)\n",
        "        results[_date] = extracted_data.get_value()\n",
        "    return results"
      ],
      "metadata": {
        "id": "PNKq5VdNb1vG"
      },
      "execution_count": null,
      "outputs": []
    },
    {
      "cell_type": "code",
      "source": [
        "# 直近5年分の売上をまとめて取得する\n",
        "net_sales = get_all_periods_value(\n",
        "    xbrl=parsed_xbrl,\n",
        "    key='jpcrp_cor:NetSalesSummaryOfBusinessResults',\n",
        "    report_end_date=report_end_date,\n",
        "    context_refs=durations\n",
        ")\n",
        "net_sales"
      ],
      "metadata": {
        "colab": {
          "base_uri": "https://localhost:8080/"
        },
        "id": "eWlCMZpqh3kv",
        "outputId": "5c9cc1dc-f1ee-4d81-a27d-0dd748fc7b03"
      },
      "execution_count": null,
      "outputs": [
        {
          "output_type": "execute_result",
          "data": {
            "text/plain": [
              "{'2020-11-30': '11318217000',\n",
              " '2019-11-30': '7156784000',\n",
              " '2018-11-30': '4594789000',\n",
              " '2017-11-30': '2899548000',\n",
              " '2016-11-30': None}"
            ]
          },
          "metadata": {},
          "execution_count": 17
        }
      ]
    },
    {
      "cell_type": "code",
      "source": [
        "# 直近5年分の利益をまとめて取得する\n",
        "net_profits = get_all_periods_value(\n",
        "    xbrl=parsed_xbrl,\n",
        "    key='jpcrp_cor:ProfitLossAttributableToOwnersOfParentSummaryOfBusinessResults',\n",
        "    report_end_date=report_end_date,\n",
        "    context_refs=durations\n",
        ")\n",
        "net_profits"
      ],
      "metadata": {
        "colab": {
          "base_uri": "https://localhost:8080/"
        },
        "id": "zGQP3jv1iMQR",
        "outputId": "ed84302c-8fc1-487d-d5ee-ecf0cc99c9ab"
      },
      "execution_count": null,
      "outputs": [
        {
          "output_type": "execute_result",
          "data": {
            "text/plain": [
              "{'2020-11-30': '-2423282000',\n",
              " '2019-11-30': '-2572050000',\n",
              " '2018-11-30': '-815445000',\n",
              " '2017-11-30': '-842814000',\n",
              " '2016-11-30': None}"
            ]
          },
          "metadata": {},
          "execution_count": 18
        }
      ]
    },
    {
      "cell_type": "code",
      "source": [
        "# @title\n",
        "pip install Flask\n"
      ],
      "metadata": {
        "id": "tS6-NRn_ot2c",
        "cellView": "form"
      },
      "execution_count": null,
      "outputs": []
    }
  ]
}